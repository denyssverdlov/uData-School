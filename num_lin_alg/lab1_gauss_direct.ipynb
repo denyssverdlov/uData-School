{
 "cells": [
  {
   "cell_type": "markdown",
   "metadata": {},
   "source": [
    "## <center>РОЗВ’ЯЗАННЯ СИСТЕМ ЛІНІЙНИХ АЛГЕБРАЇЧНИХ РІВНЯНЬ. МЕТОД ГАУСА</center> \n",
    " **Мета роботи:** вивчення алгоритмів для розв’язання систем лінійних алгебраїчних рівнянь (СЛАР) методом Гауса.\n",
    " \n",
    " \n",
    "**Що зробити:** скласти процедуру для розв’язання СЛАР методом Гауса, яка б у випадку невиродженої системи знаходила її розв’язок, а для виродженої системи видавала відповідне попередження. Впевнитись в коректності роботи процедури, підставляючи в СЛАР отримані розв’язки і обраховуючи нев’язки. Додатково - передбачити оцінку числа обумовленості матриці системи."
   ]
  },
  {
   "cell_type": "markdown",
   "metadata": {},
   "source": [
    "![](tasks.png)"
   ]
  },
  {
   "cell_type": "markdown",
   "metadata": {},
   "source": [
    "**Метод Гаусса** – это метод последовательного исключения неизвестных.Суть метода Гаусса состоит в преобразовании СЛАУ к системе с треугольной матрицей, из которой затем последовательно (обратным ходом) получаются значения всех неизвестных. "
   ]
  },
  {
   "cell_type": "code",
   "execution_count": 1,
   "metadata": {
    "collapsed": true
   },
   "outputs": [],
   "source": [
    "import numpy as np\n",
    "import math\n",
    "\n",
    "def Gauss(Ab): # На вход подается расширенная матрица СЛАУ(коэффиенты при неизвестных и вектор-столбец свободных членов)\n",
    "    N = len(Ab) # N - количество уравнений(предполагаем что количество уравнений равно количеству неизвестных)\n",
    "    \n",
    "    print(\"Solving system: \")\n",
    "    print(Ab)\n",
    "    \n",
    "    for i in range(0,N-1): # Прямой ход метода Гаусса, приведение матрицы СЛАУ к верхнетреугольному виду.\n",
    "        \n",
    "        for j in range(i+1,N): # во всех строках начиная c i+1-ой, обнуляем коэффициент при i-ом неизвестном, путем вычитания\n",
    "            Ab[j] += Ab[i]*(- Ab[j,i] / Ab[i,i] ) #i-ой строки, из всех нижележащих\n",
    "            \n",
    "        print(\"--------------------------------\")\n",
    "        print(\"{0} step\".format(i+1))\n",
    "        print(Ab)\n",
    "        \n",
    "    x = np.zeros(N) # обратный ход метода Гаусса, нахождение \n",
    "    x[N-1] = Ab[N-1,N]/Ab[N-1,N-1]\n",
    "    for i in range(N-2,-1, -1): #находим неизвестные последовательно снизу вверх\n",
    "        s = 0\n",
    "        for j in range(i+1, N):\n",
    "            s = s + x[j]*Ab[i, j]\n",
    "        x[i] = (Ab[i, N] - s) / Ab[i,i]\n",
    "    return x"
   ]
  },
  {
   "cell_type": "markdown",
   "metadata": {},
   "source": [
    "Решим первую систему уравнений"
   ]
  },
  {
   "cell_type": "code",
   "execution_count": 2,
   "metadata": {},
   "outputs": [
    {
     "name": "stdout",
     "output_type": "stream",
     "text": [
      "Solving system: \n",
      "[[  2.   0.   3.   1.  20.]\n",
      " [ -4.   3.  -4.  -2. -34.]\n",
      " [  4.   7.   9.   1.  48.]\n",
      " [  5.   7.   0.   8.  97.]]\n",
      "--------------------------------\n",
      "1 step\n",
      "[[  2.    0.    3.    1.   20. ]\n",
      " [  0.    3.    2.    0.    6. ]\n",
      " [  0.    7.    3.   -1.    8. ]\n",
      " [  0.    7.   -7.5   5.5  47. ]]\n",
      "--------------------------------\n",
      "2 step\n",
      "[[  2.      0.      3.      1.     20.   ]\n",
      " [  0.      3.      2.      0.      6.   ]\n",
      " [  0.      0.     -1.667  -1.     -6.   ]\n",
      " [  0.      0.    -12.167   5.5    33.   ]]\n",
      "--------------------------------\n",
      "3 step\n",
      "[[  2.      0.      3.      1.     20.   ]\n",
      " [  0.      3.      2.      0.      6.   ]\n",
      " [  0.      0.     -1.667  -1.     -6.   ]\n",
      " [  0.      0.      0.     12.8    76.8  ]]\n",
      "\n",
      "X =  [ 7.  2.  0.  6.]\n"
     ]
    }
   ],
   "source": [
    "Ab1 = np.array([\\\n",
    "    [ 2,  0,  3,   1,  20],\\\n",
    "    [-4,  3, -4,  -2, -34],\\\n",
    "    [ 4,  7,  9,   1,  48],\\\n",
    "    [ 5,  7,  0,   8,  97],\\\n",
    "])\n",
    "Ab1 = Ab1.astype(float)\n",
    "np.set_printoptions(precision = 3,suppress=True) #вывод с точностью до 3-х знаков после запятой\n",
    "\n",
    "x1 = Gauss(Ab1.copy())\n",
    "print(\"\\nX = \", x1)"
   ]
  },
  {
   "cell_type": "markdown",
   "metadata": {},
   "source": [
    "Посчитаем невязку решения:"
   ]
  },
  {
   "cell_type": "code",
   "execution_count": 3,
   "metadata": {
    "collapsed": true
   },
   "outputs": [],
   "source": [
    "def residual(Ab,x):\n",
    "    return np.matmul(Ab[:,:-1],x) - Ab[:,-1]"
   ]
  },
  {
   "cell_type": "code",
   "execution_count": 4,
   "metadata": {},
   "outputs": [
    {
     "name": "stdout",
     "output_type": "stream",
     "text": [
      "[ 0.  0.  0.  0.]\n"
     ]
    }
   ],
   "source": [
    "r = residual(Ab1,x1)\n",
    "print(r)"
   ]
  },
  {
   "cell_type": "markdown",
   "metadata": {},
   "source": [
    "   В процедуре на каждом шаге предполагалось, что ведущий элемент отличен от нуля. Если это не так, то в качестве ведущего можно использовать любой другой элемент, переставив соответствующие строки матрицы. Для избежания ошибок округления при делении на очень маленькие по абсолютной величине элементы, используется модификация метода Гаусса с выбором главного элемента, когда на каждом шаге выбирается строка с максимальным по значению ведущим элементом. "
   ]
  },
  {
   "cell_type": "code",
   "execution_count": 5,
   "metadata": {
    "collapsed": true
   },
   "outputs": [],
   "source": [
    "def Gauss_modified(Ab, printSteps=False): #на вход подается расширенная матрица, вместо столбца свободных членов можно передать\n",
    "    if printSteps:\n",
    "        print(\"Solving system: \")              #любую матрицу, например единичную для поиска обратной.\n",
    "        print(Ab)\n",
    "    \n",
    "    det = 0 #добавим вычисление определителя\n",
    "    permutations = 0 #количество перестановок строк\n",
    "    \n",
    "    N = len(Ab)\n",
    "    x = np.zeros(( N, Ab.shape[1] - N))\n",
    "    for i in range(0,N-1): #Прямой ход\n",
    "        max_element_index = np.argmax(np.abs(Ab[i:,i])) #ищем строку с максимальным ведущим элементом\n",
    "        if math.isclose(Ab[max_element_index+i,i],0):\n",
    "            raise np.linalg.LinAlgError('Singular matrix') #все ведущие элементы нулевые -> матрица вырожденная\n",
    "        \n",
    "        if (printSteps):\n",
    "            print(\"--------------------------------\")\n",
    "            print(\"{0} step\".format(i+1))\n",
    "            print(\"Switch {0} and {1} rows\".format( i+1, max_element_index+i+1))\n",
    "        \n",
    "        Ab[i,:], Ab[max_element_index+i,:] = Ab[max_element_index+i, :], Ab[i,:].copy() #перестановка строк\n",
    "        permutations+=1\n",
    "        if (printSteps):\n",
    "            print(Ab)\n",
    "            print(\"Eliminate {0} variable\".format(i+1)) #Исключаем i-ое неизвестное\n",
    "            \n",
    "        for j in range(i+1,N):\n",
    "            Ab[j] += Ab[i]*(- Ab[j,i] / Ab[i,i] )\n",
    "        if (printSteps):\n",
    "            print(Ab)\n",
    "        \n",
    "    x[N-1] = Ab[N-1,N:]/Ab[N-1,N-1]\n",
    "\n",
    "    for i in range(N-2,-1, -1):\n",
    "        s = np.zeros( (1, x.shape[1]))\n",
    "\n",
    "        for j in range(i+1, N):\n",
    "            s = s + x[j]*Ab[i, j]\n",
    "        x[i] = (Ab[i, N:] - s) / Ab[i,i]\n",
    "        \n",
    "    det = np.prod(Ab.diagonal())*(-1)**permutations\n",
    "    \n",
    "    return x,  det"
   ]
  },
  {
   "cell_type": "markdown",
   "metadata": {},
   "source": [
    "Решим вторую систему уравнений:"
   ]
  },
  {
   "cell_type": "code",
   "execution_count": 6,
   "metadata": {},
   "outputs": [
    {
     "name": "stdout",
     "output_type": "stream",
     "text": [
      "Solving system: \n",
      "[[  -7.   -6.   -6.    6.  144.]\n",
      " [   7.    6.    8.  -13. -170.]\n",
      " [   4.   17.  -16.   10.   21.]\n",
      " [  -5.   18.   19.    0. -445.]]\n",
      "--------------------------------\n",
      "1 step\n",
      "Switch 1 and 1 rows\n",
      "[[  -7.   -6.   -6.    6.  144.]\n",
      " [   7.    6.    8.  -13. -170.]\n",
      " [   4.   17.  -16.   10.   21.]\n",
      " [  -5.   18.   19.    0. -445.]]\n",
      "Eliminate 1 variable\n",
      "[[  -7.      -6.      -6.       6.     144.   ]\n",
      " [   0.       0.       2.      -7.     -26.   ]\n",
      " [   0.      13.571  -19.429   13.429  103.286]\n",
      " [   0.      22.286   23.286   -4.286 -547.857]]\n",
      "--------------------------------\n",
      "2 step\n",
      "Switch 2 and 4 rows\n",
      "[[  -7.      -6.      -6.       6.     144.   ]\n",
      " [   0.      22.286   23.286   -4.286 -547.857]\n",
      " [   0.      13.571  -19.429   13.429  103.286]\n",
      " [   0.       0.       2.      -7.     -26.   ]]\n",
      "Eliminate 2 variable\n",
      "[[  -7.      -6.      -6.       6.     144.   ]\n",
      " [   0.      22.286   23.286   -4.286 -547.857]\n",
      " [   0.      -0.     -33.609   16.038  436.917]\n",
      " [   0.       0.       2.      -7.     -26.   ]]\n",
      "--------------------------------\n",
      "3 step\n",
      "Switch 3 and 3 rows\n",
      "[[  -7.      -6.      -6.       6.     144.   ]\n",
      " [   0.      22.286   23.286   -4.286 -547.857]\n",
      " [   0.      -0.     -33.609   16.038  436.917]\n",
      " [   0.       0.       2.      -7.     -26.   ]]\n",
      "Eliminate 3 variable\n",
      "[[  -7.      -6.      -6.       6.     144.   ]\n",
      " [   0.      22.286   23.286   -4.286 -547.857]\n",
      " [   0.      -0.     -33.609   16.038  436.917]\n",
      " [   0.      -0.       0.      -6.046    0.   ]]\n",
      "\n",
      "X =  [  0. -11. -13.  -0.]\n"
     ]
    }
   ],
   "source": [
    "Ab2 = np.array([\\\n",
    "    [-7,  -6,   -6,   6,  144 ],\\\n",
    "    [ 7,   6,    8,  -13, -170],\\\n",
    "    [ 4,  17,  -16,   10,  21 ],\\\n",
    "    [-5,  18,   19,   0,  -445],\\\n",
    "])\n",
    "Ab2 = Ab2.astype(float)\n",
    "x2, det = Gauss_modified(Ab2.copy(),printSteps = True)\n",
    "print(\"\\nX = \", x2.reshape(4))"
   ]
  },
  {
   "cell_type": "markdown",
   "metadata": {},
   "source": [
    "Невязка:"
   ]
  },
  {
   "cell_type": "code",
   "execution_count": 7,
   "metadata": {},
   "outputs": [
    {
     "name": "stdout",
     "output_type": "stream",
     "text": [
      "[ 0.  0.  0. -0.]\n"
     ]
    }
   ],
   "source": [
    "r = residual(Ab2,x2.reshape(4))\n",
    "print(r)\n"
   ]
  },
  {
   "cell_type": "markdown",
   "metadata": {},
   "source": [
    "Решим 3 систему:"
   ]
  },
  {
   "cell_type": "code",
   "execution_count": 8,
   "metadata": {},
   "outputs": [
    {
     "name": "stdout",
     "output_type": "stream",
     "text": [
      "Solving system: \n",
      "[[  3.  -2.  -7.  -1.   2.]\n",
      " [  7. -10.  -5.   1.  28.]\n",
      " [  4.   0. -15.  -9. -21.]\n",
      " [ -8.   8.  13.   4. -11.]]\n",
      "--------------------------------\n",
      "1 step\n",
      "Switch 1 and 4 rows\n",
      "[[ -8.   8.  13.   4. -11.]\n",
      " [  7. -10.  -5.   1.  28.]\n",
      " [  4.   0. -15.  -9. -21.]\n",
      " [  3.  -2.  -7.  -1.   2.]]\n",
      "Eliminate 1 variable\n",
      "[[ -8.      8.     13.      4.    -11.   ]\n",
      " [  0.     -3.      6.375   4.5    18.375]\n",
      " [  0.      4.     -8.5    -7.    -26.5  ]\n",
      " [  0.      1.     -2.125   0.5    -2.125]]\n",
      "--------------------------------\n",
      "2 step\n",
      "Switch 2 and 3 rows\n",
      "[[ -8.      8.     13.      4.    -11.   ]\n",
      " [  0.      4.     -8.5    -7.    -26.5  ]\n",
      " [  0.     -3.      6.375   4.5    18.375]\n",
      " [  0.      1.     -2.125   0.5    -2.125]]\n",
      "Eliminate 2 variable\n",
      "[[ -8.     8.    13.     4.   -11.  ]\n",
      " [  0.     4.    -8.5   -7.   -26.5 ]\n",
      " [  0.     0.     0.    -0.75  -1.5 ]\n",
      " [  0.     0.     0.     2.25   4.5 ]]\n",
      "MATRIX IS SINGULAR\n"
     ]
    }
   ],
   "source": [
    "Ab3 = np.array([\\\n",
    "    [ 3,  -2,    -7,   -1,    2],\\\n",
    "    [ 7, -10,    -5,    1,   28],\\\n",
    "    [ 4,   0,   -15,   -9,  -21],\\\n",
    "    [-8,   8,    13,    4,  -11],\\\n",
    "])\n",
    "Ab3 = Ab3.astype(float)\n",
    "try:\n",
    "    x3, det = Gauss_modified(Ab3.copy(),printSteps = True)\n",
    "    print(\"\\nX = \", x.reshape(4))\n",
    "except np.linalg.LinAlgError:\n",
    "    print (\"MATRIX IS SINGULAR\")\n"
   ]
  },
  {
   "cell_type": "markdown",
   "metadata": {},
   "source": [
    "**LU-разложение** — представление матрицы A в виде произведения двух матриц, **A=LU**, где **L** — нижняя треугольная матрица, а **U** — верхняя треугольная матрица.\n",
    "\n",
    "**LU-разложение** используется для решения систем линейных уравнений, обращения матриц и вычисления определителя."
   ]
  },
  {
   "cell_type": "code",
   "execution_count": 9,
   "metadata": {
    "collapsed": true
   },
   "outputs": [],
   "source": [
    "def LU_Factor(A):\n",
    "    LU = np.zeros(A.shape)\n",
    "    N = len(LU)\n",
    "    np.fill_diagonal(LU,1)\n",
    "    LU[0] = A[0]\n",
    "    LU[1:,0] = A[1:,0]/LU[0,0]\n",
    "    \n",
    "    for i in range(1, N):\n",
    "        for col in range(i,N): #элементы U\n",
    "            LU[i, col] = A[i,col] - np.dot(LU[i,:i], LU[:i,col])\n",
    "        for row in range(i+1,N): #элементы L\n",
    "            LU[row,i] = (A[row,i] - np.dot(LU[row, :i], LU[:i,i]))/LU[i,i]\n",
    "    return LU"
   ]
  },
  {
   "cell_type": "markdown",
   "metadata": {},
   "source": [
    "Полученное **LU-разложение** матрицы **A** (матрица коэффициентов системы) может быть использовано для решения \n",
    "семейства систем линейных уравнений с различными векторами **b** в правой части:\n",
    "\n",
    "   **Ax=b**\n",
    "   \n",
    "Если известно **LU-разложение** матрицы **A**,  **A=LU**, исходная система может быть записана как\n",
    "\n",
    " **LUx=b**\n",
    " \n",
    "Эта система может быть решена в два шага. На первом шаге решается система\n",
    "\n",
    "**Ly=b.**\n",
    "\n",
    "Поскольку **L** — нижняя треугольная матрица, эта система решается непосредственно прямой подстановкой.\n",
    "\n",
    "На втором шаге решается система\n",
    "\n",
    "**Ux=y.**\n",
    "\n",
    "Поскольку **U** — верхняя треугольная матрица, эта система решается непосредственно обратной подстановкой."
   ]
  },
  {
   "cell_type": "markdown",
   "metadata": {},
   "source": [
    "Используем **LU**-разложение для вычисления обратной матрицы. Для этого решаем систему уравнений **LUx=E**, где **E** - единичная матрицйа"
   ]
  },
  {
   "cell_type": "code",
   "execution_count": 10,
   "metadata": {
    "collapsed": true
   },
   "outputs": [],
   "source": [
    "def inverse_matrix_LU(M):\n",
    "    LU = LU_Factor(M)\n",
    "    L = np.tril(LU)\n",
    "    np.fill_diagonal(L, 1)\n",
    "    U = np.triu(LU)\n",
    "    y, det = Gauss_modified(np.append(L,np.identity(len(L)),axis = 1)) # решаем систему Ly=E\n",
    "    inverse, det = Gauss_modified(np.append(U, y, axis = 1))#решаем систему Ux=y \n",
    "    return inverse\n"
   ]
  },
  {
   "cell_type": "code",
   "execution_count": 11,
   "metadata": {},
   "outputs": [
    {
     "name": "stdout",
     "output_type": "stream",
     "text": [
      "[[-4.203 -1.641  0.672  0.031]\n",
      " [-0.703 -0.141  0.172  0.031]\n",
      " [ 2.055  0.711 -0.258 -0.047]\n",
      " [ 3.242  1.148 -0.57   0.078]]\n"
     ]
    }
   ],
   "source": [
    "A1_inv = inverse_matrix_LU(Ab1[:,:-1])\n",
    "print(A1_inv)\n"
   ]
  },
  {
   "cell_type": "markdown",
   "metadata": {},
   "source": [
    "Для невырожденной матрицы **LU-разложение** существует тогда и только тогда, когда все ее главные миноры не равны 0. Поскольку это условие, для матрицы коэффициентов второй системы уравнений не выполняется, для нахождение обратной матрицы, используем метод Гаусса, с расширенной матрицей **A|E**"
   ]
  },
  {
   "cell_type": "code",
   "execution_count": 12,
   "metadata": {
    "collapsed": true
   },
   "outputs": [],
   "source": [
    "def inverse_matrix_gauss(M):\n",
    "    inverse, det = Gauss_modified(np.append(M, np.identity(len(M)),axis = 1))\n",
    "    return inverse"
   ]
  },
  {
   "cell_type": "code",
   "execution_count": 13,
   "metadata": {},
   "outputs": [
    {
     "data": {
      "text/plain": [
       "array([[-0.241, -0.118, -0.008, -0.034],\n",
       "       [ 0.053,  0.051,  0.034,  0.024],\n",
       "       [-0.114, -0.079, -0.034,  0.021],\n",
       "       [-0.175, -0.165, -0.01 ,  0.006]])"
      ]
     },
     "execution_count": 13,
     "metadata": {},
     "output_type": "execute_result"
    }
   ],
   "source": [
    "inverse_matrix_gauss(Ab2[:,:-1])"
   ]
  },
  {
   "cell_type": "markdown",
   "metadata": {},
   "source": [
    "Числом обусловленности ***cond(A)*** оператора **A** называется число **cond(A) = ||A||\\*||A^(-1)||**\n",
    "Если число обусловленности оператора **A** мало́, то оператор называется хорошо обусловленным. Если же число обусловленности велико, то оператор называется плохо обусловленным. Чем меньше **cond(A)**, тем «лучше», то есть тем меньше погрешности решения будут относительно погрешностей в условии. Учитывая, что **cond(A)>=1**, то наилучшим числом обусловленности является 1."
   ]
  },
  {
   "cell_type": "code",
   "execution_count": 14,
   "metadata": {
    "collapsed": true
   },
   "outputs": [],
   "source": [
    "def condition_number(M):\n",
    "    M_inv = inverse_matrix_gauss(M)\n",
    "    return np.linalg.norm(M,np.inf)*np.linalg.norm(M_inv, np.inf)"
   ]
  },
  {
   "cell_type": "markdown",
   "metadata": {},
   "source": [
    "Число обусловленности 1-й системы:"
   ]
  },
  {
   "cell_type": "code",
   "execution_count": 15,
   "metadata": {},
   "outputs": [
    {
     "name": "stdout",
     "output_type": "stream",
     "text": [
      "[[ 2.  0.  3.  1.]\n",
      " [-4.  3. -4. -2.]\n",
      " [ 4.  7.  9.  1.]\n",
      " [ 5.  7.  0.  8.]]\n",
      "Condition number:  137.484375\n"
     ]
    }
   ],
   "source": [
    "print(Ab1[:,:-1])\n",
    "print(\"Condition number: \", condition_number(Ab1[:,:-1]))"
   ]
  },
  {
   "cell_type": "markdown",
   "metadata": {},
   "source": [
    "Число обусловленности 2-й системы:"
   ]
  },
  {
   "cell_type": "code",
   "execution_count": 16,
   "metadata": {},
   "outputs": [
    {
     "name": "stdout",
     "output_type": "stream",
     "text": [
      "[[ -7.  -6.  -6.   6.]\n",
      " [  7.   6.   8. -13.]\n",
      " [  4.  17. -16.  10.]\n",
      " [ -5.  18.  19.   0.]]\n",
      "Condition number:  18.8151244597\n"
     ]
    }
   ],
   "source": [
    "print(Ab2[:,:-1])\n",
    "print(\"Condition number: \", condition_number(Ab2[:,:-1]))"
   ]
  },
  {
   "cell_type": "markdown",
   "metadata": {},
   "source": [
    "Введем возмущение в правой части исходных СЛАУ:"
   ]
  },
  {
   "cell_type": "code",
   "execution_count": 17,
   "metadata": {},
   "outputs": [
    {
     "name": "stdout",
     "output_type": "stream",
     "text": [
      "1 system:\n",
      " [[  2.    0.    3.    1.   20.2]\n",
      " [ -4.    3.   -4.   -2.  -34. ]\n",
      " [  4.    7.    9.    1.   48. ]\n",
      " [  5.    7.    0.    8.   97. ]]\n",
      "2 system:\n",
      " [[  -7.     -6.     -6.      6.    145.44]\n",
      " [   7.      6.      8.    -13.   -170.  ]\n",
      " [   4.     17.    -16.     10.     21.  ]\n",
      " [  -5.     18.     19.      0.   -445.  ]]\n"
     ]
    }
   ],
   "source": [
    "Ab1[0,-1]*=1.01\n",
    "print(\"1 system:\\n\", Ab1)\n",
    "Ab2[0,-1]*=1.01\n",
    "print(\"2 system:\\n\", Ab2)"
   ]
  },
  {
   "cell_type": "markdown",
   "metadata": {},
   "source": [
    "Решим СЛАУ с возмущением и посчитаем относительную погрешность решений:"
   ]
  },
  {
   "cell_type": "code",
   "execution_count": 18,
   "metadata": {},
   "outputs": [],
   "source": [
    "x1_modified, det = Gauss_modified(Ab1.copy())\n",
    "x2_modified, det = Gauss_modified(Ab2.copy())"
   ]
  },
  {
   "cell_type": "code",
   "execution_count": 19,
   "metadata": {},
   "outputs": [
    {
     "name": "stdout",
     "output_type": "stream",
     "text": [
      "X1 =  [ 7.  2.  0.  6.] X1_modified =  [ 6.159  1.859  0.411  6.648] Error:  0.120089285714\n",
      "X2 =  [  0. -11. -13.  -0.] X2_modified =  [ -0.347 -10.924 -13.164  -0.252] Error:  0.0267094435047\n"
     ]
    }
   ],
   "source": [
    "print(\"X1 = \", x1, \"X1_modified = \", x1_modified.reshape(4), \"Error: \",\\\n",
    "          np.linalg.norm(x1-x1_modified.reshape(4),np.inf)/np.linalg.norm(x1,np.inf))\n",
    "print(\"X2 = \", x2.reshape(4), \"X2_modified = \", x2_modified.reshape(4), \"Error: \",\\\n",
    "          np.linalg.norm(x2-x2_modified,np.inf)/np.linalg.norm(x2,np.inf))\n"
   ]
  },
  {
   "cell_type": "markdown",
   "metadata": {},
   "source": [
    "Число обусловленности второй СЛАУ меньше, поэтому, как и следовало ожидать, погрешность решения значительно ниже - менее 3%"
   ]
  }
 ],
 "metadata": {
  "kernelspec": {
   "display_name": "Python 3",
   "language": "python",
   "name": "python3"
  },
  "language_info": {
   "codemirror_mode": {
    "name": "ipython",
    "version": 3
   },
   "file_extension": ".py",
   "mimetype": "text/x-python",
   "name": "python",
   "nbconvert_exporter": "python",
   "pygments_lexer": "ipython3",
   "version": "3.6.3"
  }
 },
 "nbformat": 4,
 "nbformat_minor": 2
}
